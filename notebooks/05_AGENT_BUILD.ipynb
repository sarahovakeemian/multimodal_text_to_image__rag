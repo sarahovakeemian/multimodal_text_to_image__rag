{
 "cells": [
  {
   "cell_type": "code",
   "execution_count": 0,
   "metadata": {
    "application/vnd.databricks.v1+cell": {
     "cellMetadata": {
      "byteLimit": 2048000,
      "rowLimit": 10000
     },
     "inputWidgets": {},
     "nuid": "c814006f-523d-4b4e-a448-0554e790cc67",
     "showTitle": false,
     "tableResultSettingsMap": {},
     "title": ""
    }
   },
   "outputs": [],
   "source": [
    "%pip install databricks_vectorsearch \n",
    "dbutils.library.restartPython()"
   ]
  },
  {
   "cell_type": "code",
   "execution_count": 0,
   "metadata": {
    "application/vnd.databricks.v1+cell": {
     "cellMetadata": {
      "byteLimit": 2048000,
      "rowLimit": 10000
     },
     "inputWidgets": {},
     "nuid": "3d0be38c-1bd8-4df5-a734-77ac42f0690b",
     "showTitle": false,
     "tableResultSettingsMap": {},
     "title": ""
    }
   },
   "outputs": [],
   "source": [
    "from config import DeployConfig\n",
    "import requests\n",
    "import json"
   ]
  },
  {
   "cell_type": "code",
   "execution_count": 0,
   "metadata": {
    "application/vnd.databricks.v1+cell": {
     "cellMetadata": {
      "byteLimit": 2048000,
      "rowLimit": 10000
     },
     "inputWidgets": {},
     "nuid": "32342d17-e581-408c-9e32-3f2668f5640a",
     "showTitle": false,
     "tableResultSettingsMap": {},
     "title": ""
    }
   },
   "outputs": [],
   "source": [
    "dbutils.widgets.text(\"config_path\", \"./config/env_variables.yml\")\n",
    "config_path = dbutils.widgets.get(\"config_path\")\n",
    "cfg = DeployConfig.from_yaml(config_path)"
   ]
  },
  {
   "cell_type": "code",
   "execution_count": 0,
   "metadata": {
    "application/vnd.databricks.v1+cell": {
     "cellMetadata": {
      "byteLimit": 2048000,
      "rowLimit": 10000
     },
     "inputWidgets": {},
     "nuid": "f7721a7e-eb16-4b83-bd68-7ee231515dc8",
     "showTitle": false,
     "tableResultSettingsMap": {},
     "title": ""
    }
   },
   "outputs": [],
   "source": [
    "vs_index = getattr(cfg, f\"vs_index\")\n",
    "image_table = getattr(cfg, f\"image_table\")"
   ]
  },
  {
   "cell_type": "markdown",
   "metadata": {
    "application/vnd.databricks.v1+cell": {
     "cellMetadata": {},
     "inputWidgets": {},
     "nuid": "a8ed8539-a02c-40d4-b5c3-cac4c9d8418e",
     "showTitle": false,
     "tableResultSettingsMap": {},
     "title": ""
    }
   },
   "source": [
    "#AGENT BUILD"
   ]
  },
  {
   "cell_type": "code",
   "execution_count": 0,
   "metadata": {
    "application/vnd.databricks.v1+cell": {
     "cellMetadata": {
      "byteLimit": 2048000,
      "rowLimit": 10000
     },
     "inputWidgets": {},
     "nuid": "13e72ce9-2f7e-4906-beb4-458f289d1559",
     "showTitle": false,
     "tableResultSettingsMap": {},
     "title": ""
    }
   },
   "outputs": [],
   "source": [
    "import mlflow\n",
    "from mlflow.deployments import get_deploy_client\n",
    "from databricks.vector_search.index import VectorSearchIndex\n",
    "from databricks.vector_search.client import VectorSearchClient\n",
    "from mlflow.entities import SpanType\n",
    "from PIL import Image\n",
    "from io import BytesIO\n",
    "import os\n",
    "import requests"
   ]
  },
  {
   "cell_type": "code",
   "execution_count": 0,
   "metadata": {
    "application/vnd.databricks.v1+cell": {
     "cellMetadata": {
      "byteLimit": 2048000,
      "rowLimit": 10000
     },
     "inputWidgets": {},
     "nuid": "9cd0b0d7-97f0-4f9d-bd7d-579b66c39f94",
     "showTitle": false,
     "tableResultSettingsMap": {},
     "title": ""
    }
   },
   "outputs": [],
   "source": [
    "os.environ['CLIENT_ID'] = dbutils.secrets.get(\"shovakeemian-scope\", \"shovakeemian-sp-client-id\")\n",
    "os.environ['CLIENT_SECRET'] = dbutils.secrets.get(\"shovakeemian-scope\", \"shovakeemian-sp-client-secret\")"
   ]
  },
  {
   "cell_type": "code",
   "execution_count": 0,
   "metadata": {
    "application/vnd.databricks.v1+cell": {
     "cellMetadata": {
      "byteLimit": 2048000,
      "rowLimit": 10000
     },
     "inputWidgets": {},
     "nuid": "09b0f4a6-0c92-4145-a580-7da5f4f511bb",
     "showTitle": false,
     "tableResultSettingsMap": {},
     "title": ""
    }
   },
   "outputs": [],
   "source": [
    "class CAT_AGENT(mlflow.pyfunc.PythonModel):\n",
    "    def __init__(self):\n",
    "      # from databricks.sdk import WorkspaceClient\n",
    "      import requests\n",
    "      self.session=requests.Session()\n",
    "\n",
    "      # self.w = WorkspaceClient()\n",
    "      # self.client = get_deploy_client(\"databricks\")\n",
    "\n",
    "      self.oauth=None\n",
    "      self.CLIENT_ID = os.environ.get(\"CLIENT_ID\") \n",
    "      self.CLIENT_SECRET = os.environ.get(\"CLIENT_SECRET\") \n",
    "      \n",
    "      self.vsc=VectorSearchClient(    \n",
    "            workspace_url=\"https://e2-demo-field-eng.cloud.databricks.com/\",\n",
    "            service_principal_client_id=self.CLIENT_ID,\n",
    "            service_principal_client_secret=self.CLIENT_SECRET\n",
    "        )\n",
    "\n",
    "    def load_context(self, context):\n",
    "      from transformers import CLIPProcessor, CLIPModel\n",
    "      from PIL import Image\n",
    "      from io import BytesIO\n",
    "      # Initialize tokenizer and model\n",
    "      # will not need to do this once ai_query can take params of a pyfunc. We can have teh serving endpoint be able to do image and text embeddings. \n",
    "      self.model = CLIPModel.from_pretrained(\"openai/clip-vit-large-patch14\")\n",
    "      self.processor= CLIPProcessor.from_pretrained(\"openai/clip-vit-large-patch14\")\n",
    "\n",
    "\n",
    "    @mlflow.trace(name=\"compute_text_embedding\", span_type=SpanType.EMBEDDING, attributes={\"model\": \"clip-vit-large-patch14\"})\n",
    "    def _get_text_embedding(self, text):\n",
    "      \"\"\"\n",
    "      computes the text embedding for a given text.\n",
    "      \"\"\"\n",
    "      #want to change this to call the serving endpoint when ai_query can take params of a pyfunc.\n",
    "      inputs = self.processor(text=text, return_tensors=\"pt\", padding=True)\n",
    "      text_features = self.model.get_text_features(**inputs)\n",
    "      return text_features.detach().numpy().tolist()[0]\n",
    "\n",
    "\n",
    "    @mlflow.trace(name=\"cat_image_vs_imageemb_lookup\", span_type=SpanType.RETRIEVER, attributes={\"model\": \"clip-vit-large-patch14\", \"vs_index\": vs_index.path})\n",
    "    def _vector_search_retrieval(self, query):\n",
    "      text_embed_query=self._get_text_embedding(query)\n",
    "      index = self.vsc.get_index(endpoint_name=vs_index.endpoint, index_name=vs_index.path)\n",
    "      vs_output = index.similarity_search(columns=[\"id\", 'path'], query_vector=text_embed_query, num_results=3)\n",
    "      return vs_output\n",
    "\n",
    "\n",
    "    @mlflow.trace(name=\"cat_id_image_lookup\", span_type=SpanType.RETRIEVER, attributes={\"table\": image_table.path})\n",
    "    def _get_images(self, vs_output):\n",
    "      \"\"\"\n",
    "      takes the output of vs and querys original delta table for images. \n",
    "      uses PIL to open images?\n",
    "      \"\"\"\n",
    "      image_ids=[result[0] for result in vs_output['result']['data_array']]\n",
    "      image_lookups=spark.sql(f'select content from {image_table.path} where id in ({\",\".join([str(id) for id in image_ids])})').collect()\n",
    "      # return Image.open(BytesIO(image_lookups[0]['content']))\n",
    "      for image in image_lookups:\n",
    "        yield Image.open(BytesIO(image['content']))\n",
    "\n",
    "    @mlflow.trace(name=\"quickstart-agent\")\n",
    "    def predict(self, context, text_query):\n",
    "      vs_output=self._vector_search_retrieval(query=text_query)\n",
    "      cats=self._get_images(vs_output)\n",
    "      return cats"
   ]
  },
  {
   "cell_type": "code",
   "execution_count": 0,
   "metadata": {
    "application/vnd.databricks.v1+cell": {
     "cellMetadata": {
      "byteLimit": 2048000,
      "rowLimit": 10000
     },
     "inputWidgets": {},
     "nuid": "4e38faf3-19aa-464e-8cf5-4d0b14d931a9",
     "showTitle": false,
     "tableResultSettingsMap": {},
     "title": ""
    }
   },
   "outputs": [],
   "source": [
    "agent=CAT_AGENT()\n",
    "agent.load_context(None)"
   ]
  },
  {
   "cell_type": "code",
   "execution_count": 0,
   "metadata": {
    "application/vnd.databricks.v1+cell": {
     "cellMetadata": {
      "byteLimit": 2048000,
      "rowLimit": 10000
     },
     "inputWidgets": {},
     "nuid": "7807db06-e79e-4dd7-bb95-a977ad188790",
     "showTitle": false,
     "tableResultSettingsMap": {},
     "title": ""
    }
   },
   "outputs": [],
   "source": [
    "response=agent.predict(text_query='black cat', context=None)"
   ]
  },
  {
   "cell_type": "code",
   "execution_count": 0,
   "metadata": {
    "application/vnd.databricks.v1+cell": {
     "cellMetadata": {
      "byteLimit": 2048000,
      "rowLimit": 10000
     },
     "inputWidgets": {},
     "nuid": "f7a953a1-beb2-4926-b626-40e06729c5af",
     "showTitle": false,
     "tableResultSettingsMap": {},
     "title": ""
    }
   },
   "outputs": [],
   "source": [
    "next(response)"
   ]
  },
  {
   "cell_type": "code",
   "execution_count": 0,
   "metadata": {
    "application/vnd.databricks.v1+cell": {
     "cellMetadata": {
      "byteLimit": 2048000,
      "rowLimit": 10000
     },
     "inputWidgets": {},
     "nuid": "7d13bcfe-406d-450a-b85c-5a0d930cd7f4",
     "showTitle": false,
     "tableResultSettingsMap": {},
     "title": ""
    }
   },
   "outputs": [],
   "source": [
    "next(response)"
   ]
  },
  {
   "cell_type": "code",
   "execution_count": 0,
   "metadata": {
    "application/vnd.databricks.v1+cell": {
     "cellMetadata": {
      "byteLimit": 2048000,
      "rowLimit": 10000
     },
     "inputWidgets": {},
     "nuid": "7b701c45-96e2-469e-ae83-f4483bbe300f",
     "showTitle": false,
     "tableResultSettingsMap": {},
     "title": ""
    }
   },
   "outputs": [],
   "source": [
    "next(response)"
   ]
  },
  {
   "cell_type": "code",
   "execution_count": 0,
   "metadata": {
    "application/vnd.databricks.v1+cell": {
     "cellMetadata": {},
     "inputWidgets": {},
     "nuid": "87516232-35f9-4cd2-b9f6-5efefb835750",
     "showTitle": false,
     "tableResultSettingsMap": {},
     "title": ""
    }
   },
   "outputs": [],
   "source": []
  }
 ],
 "metadata": {
  "application/vnd.databricks.v1+notebook": {
   "computePreferences": null,
   "dashboards": [],
   "environmentMetadata": {
    "base_environment": "",
    "environment_version": "2"
   },
   "language": "python",
   "notebookMetadata": {
    "mostRecentlyExecutedCommandWithImplicitDF": {
     "commandId": 893528767918203,
     "dataframes": [
      "_sqldf"
     ]
    },
    "pythonIndentUnit": 2
   },
   "notebookName": "05_AGENT_BUILD",
   "widgets": {
    "config_path": {
     "currentValue": "./config/env_variables.yml",
     "nuid": "683941fe-3667-4716-9470-3c146623e6f6",
     "typedWidgetInfo": {
      "autoCreated": false,
      "defaultValue": "./config/env_variables.yml",
      "label": null,
      "name": "config_path",
      "options": {
       "widgetDisplayType": "Text",
       "validationRegex": null
      },
      "parameterDataType": "String"
     },
     "widgetInfo": {
      "widgetType": "text",
      "defaultValue": "./config/env_variables.yml",
      "label": null,
      "name": "config_path",
      "options": {
       "widgetType": "text",
       "autoCreated": null,
       "validationRegex": null
      }
     }
    }
   }
  },
  "language_info": {
   "name": "python"
  }
 },
 "nbformat": 4,
 "nbformat_minor": 0
}
